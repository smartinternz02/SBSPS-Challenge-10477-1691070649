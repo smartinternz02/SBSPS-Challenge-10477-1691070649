{
 "cells": [
  {
   "cell_type": "markdown",
   "id": "fdf7746a",
   "metadata": {},
   "source": [
    "# Identifying Patterns And Trends In Campus Placement Data Using Machine Learning"
   ]
  },
  {
   "cell_type": "markdown",
   "id": "838b1190",
   "metadata": {},
   "source": [
    "## Importing Required Libraries"
   ]
  },
  {
   "cell_type": "code",
   "execution_count": null,
   "id": "4fd86065",
   "metadata": {},
   "outputs": [],
   "source": [
    "import numpy as np\n",
    "import pandas as pd\n",
    "import matplotlib.pyplot as plt\n",
    "import seaborn as sns\n",
    "import plotly.express as px \n",
    "from sklearn.model_selection import train_test_split\n",
    "from sklearn.preprocessing import LabelEncoder, StandardScaler\n",
    "from sklearn.metrics import accuracy_score, classification_report, confusion_matrix, precision_score, recall_score, f1_score\n",
    "from sklearn.model_selection import GridSearchCV\n",
    "import warnings\n",
    "warnings.filterwarnings('ignore', category=UserWarning)\n",
    "import pickle\n",
    "import joblib"
   ]
  },
  {
   "cell_type": "markdown",
   "id": "d504f661",
   "metadata": {},
   "source": [
    "## Creating Dataset of Campus Placement"
   ]
  },
  {
   "cell_type": "code",
   "execution_count": null,
   "id": "cbd14480",
   "metadata": {},
   "outputs": [],
   "source": [
    "np.random.seed(42)\n",
    "\n",
    "num_samples = 1650\n",
    "\n",
    "data = {   \n",
    "    'Student_ID': np.arange(20001, 20001 + num_samples),\n",
    "    'Gender': np.random.choice(['Male', 'Female'], size=num_samples),\n",
    "    'Age': np.random.randint(21, 31, size=num_samples),\n",
    "    'Education': np.random.choice(['Bachelor', 'Master'], size=num_samples),\n",
    "    'CGPA': np.round(np.random.uniform(5, 10, size=num_samples), 2),\n",
    "    'Internships': np.random.randint(0, 5, size=num_samples),\n",
    "    'Year': np.random.randint(2018, 2024, size=num_samples),\n",
    "    'Hostel': np.random.choice(['Opted', 'Not Opted'], size=num_samples),\n",
    "    'Projects' : np.random.randint(0, 6, size=num_samples),\n",
    "    'Letter_of_Recommendation': np.random.choice(['Yes', 'No'], size=num_samples),\n",
    "    'Specialization': np.random.choice(['Computer Science', 'Information Technology', 'Electrical', 'Electronics', 'Mechanical', 'Civil'], size=num_samples, p=[0.30, 0.20, 0.18, 0.17, 0.10, 0.05]),\n",
    "    'On/Off Campus': np.random.choice(['On Campus', 'Off Campus'], size=num_samples),\n",
    "    'Package(LPA)': np.random.randint(200000, 1000000, size=num_samples),\n",
    "}\n",
    "\n",
    "# Introduce missing values only for some features\n",
    "missing_indices = np.random.choice(np.arange(num_samples), size=int(num_samples * 0.05), replace=False)\n",
    "data['CGPA'][missing_indices] = np.nan\n",
    "\n",
    "# Create DataFrame\n",
    "df = pd.DataFrame(data)\n",
    "\n",
    "# Set max age to 27 for bachelor's degree students\n",
    "df.loc[(df['Education'] == \"Bachelor\") & (df['Age'] > 27), 'Age'] = 27\n",
    "\n",
    "# Set min age to 24 for master's degree students\n",
    "df.loc[(df['Education'] == \"Master\") & (df['Age'] < 24), 'Age'] = 24\n",
    "\n",
    "# Add the 'HistoryOfBacklogs' column with random data\n",
    "num_rows = df.shape[0]\n",
    "df['HistoryOfBacklogs'] = np.random.randint(0, 5, size=num_rows)\n",
    "\n",
    "# Add the 'Placement_Status' column with default 'Yes' values\n",
    "df['Placement_Status'] = 'Placed'\n",
    "\n",
    "# Update 'Placement_Status' based on conditions\n",
    "df.loc[df['HistoryOfBacklogs'] > 2, 'Placement_Status'] = 'Not Placed'\n",
    "\n",
    "# Modify the 'Package(LPA)' column to set salary to 0 for \"Not Placed\" category\n",
    "df['Package(LPA)'] = np.where(df['Placement_Status'] == 'Not Placed', 0, df['Package(LPA)'])\n",
    "\n",
    "# Save the dataset to CSV file\n",
    "df.to_csv('campus_placement_dataset.csv', index=False)\n",
    "\n",
    "print(\"Dataset created and saved as 'campus_placement_dataset.csv'\")"
   ]
  },
  {
   "cell_type": "markdown",
   "id": "b5fc272a",
   "metadata": {},
   "source": [
    "## Data Collection"
   ]
  },
  {
   "cell_type": "code",
   "execution_count": null,
   "id": "3c1a0cc6",
   "metadata": {},
   "outputs": [],
   "source": [
    "#Load the dataset\n",
    "df = pd.read_csv('campus_placement_dataset.csv')\n",
    "df"
   ]
  },
  {
   "cell_type": "code",
   "execution_count": null,
   "id": "9d310283",
   "metadata": {},
   "outputs": [],
   "source": [
    "# Getting to know the shape of data  \n",
    "df.shape  "
   ]
  },
  {
   "cell_type": "code",
   "execution_count": null,
   "id": "8f6a6aec",
   "metadata": {},
   "outputs": [],
   "source": [
    "# Showing the first 5 rows of the dataset  \n",
    "df.head()  "
   ]
  },
  {
   "cell_type": "code",
   "execution_count": null,
   "id": "757dcdc7",
   "metadata": {},
   "outputs": [],
   "source": [
    "# Showing the last 10 rows of the dataset  \n",
    "df.tail(10)"
   ]
  },
  {
   "cell_type": "code",
   "execution_count": null,
   "id": "95132d1f",
   "metadata": {},
   "outputs": [],
   "source": [
    "# Showing 4 rows of the dataset at random  \n",
    "df.sample(4)  "
   ]
  },
  {
   "cell_type": "code",
   "execution_count": null,
   "id": "558b452a",
   "metadata": {},
   "outputs": [],
   "source": [
    "# Getting to know the data type of columns that are in the dataset  \n",
    "df.dtypes "
   ]
  },
  {
   "cell_type": "code",
   "execution_count": null,
   "id": "dabd9812",
   "metadata": {},
   "outputs": [],
   "source": [
    "# Getting to know the detailed information of the columns  \n",
    "df.info()  "
   ]
  },
  {
   "cell_type": "code",
   "execution_count": null,
   "id": "6e9aef84",
   "metadata": {},
   "outputs": [],
   "source": [
    "# Statistical Descriptions of the numerical values in the dataset  \n",
    "df.describe()  "
   ]
  },
  {
   "cell_type": "markdown",
   "id": "875907fb",
   "metadata": {},
   "source": [
    "## Data Preprocessing"
   ]
  },
  {
   "cell_type": "code",
   "execution_count": null,
   "id": "c1bc5129",
   "metadata": {},
   "outputs": [],
   "source": [
    "# missing values  \n",
    "df.isna().sum()  "
   ]
  },
  {
   "cell_type": "code",
   "execution_count": null,
   "id": "64c5d080",
   "metadata": {},
   "outputs": [],
   "source": [
    "# Group by education level and specialization and fill missing CGPA with the median CGPA of the group\n",
    "df['CGPA'] = df.groupby(['Education', 'Specialization'])['CGPA'].transform(lambda x: x.fillna(x.median()))"
   ]
  },
  {
   "cell_type": "code",
   "execution_count": null,
   "id": "e1afbc57",
   "metadata": {},
   "outputs": [],
   "source": [
    "df.isna().sum() "
   ]
  },
  {
   "cell_type": "code",
   "execution_count": null,
   "id": "91f5b970",
   "metadata": {},
   "outputs": [],
   "source": [
    "# duplicate rows  \n",
    "df.duplicated().sum()  "
   ]
  },
  {
   "cell_type": "code",
   "execution_count": null,
   "id": "7ed4beaa",
   "metadata": {},
   "outputs": [],
   "source": [
    "#drop duplicates  \n",
    "df.drop_duplicates(inplace=True)  "
   ]
  },
  {
   "cell_type": "code",
   "execution_count": null,
   "id": "82ad073a",
   "metadata": {},
   "outputs": [],
   "source": [
    "# Check if the duplicate rows are removed  \n",
    "df.duplicated().sum()"
   ]
  },
  {
   "cell_type": "markdown",
   "id": "90e283be",
   "metadata": {},
   "source": [
    "## EDA"
   ]
  },
  {
   "cell_type": "code",
   "execution_count": null,
   "id": "ff8fc37b",
   "metadata": {},
   "outputs": [],
   "source": [
    "# Getting to know the correlation between the target column and other features.  \n",
    "df.corr(numeric_only=True)"
   ]
  },
  {
   "cell_type": "code",
   "execution_count": null,
   "id": "1c4a1e5c",
   "metadata": {},
   "outputs": [],
   "source": [
    "# Correlation matrix to visualize the correlation between variables\n",
    "plt.figure(figsize=(8, 6))\n",
    "corr_matrix = df.corr(numeric_only=True)\n",
    "sns.heatmap(corr_matrix, annot=True, cmap='coolwarm')\n",
    "plt.title(\"Correlation Matrix\")\n",
    "plt.show()"
   ]
  },
  {
   "cell_type": "code",
   "execution_count": null,
   "id": "5eca7bf0",
   "metadata": {},
   "outputs": [],
   "source": [
    "# Plotting  the graph so that we can visualize the output with respect to major features  \n",
    "figure = px.scatter(df, x=\"CGPA\", y=\"Internships\", color=\"Placement_Status\", color_discrete_map={\"Placed\": \"green\", \"Not Placed\": \"red\"}, hover_data=['CGPA'])  \n",
    "figure.show() "
   ]
  },
  {
   "cell_type": "code",
   "execution_count": null,
   "id": "a2d1ac4a",
   "metadata": {},
   "outputs": [],
   "source": [
    "fig = px.box(df, x=\"Placement_Status\", y=\"HistoryOfBacklogs\",color=\"Placement_Status\",color_discrete_map={\"Placed\": \"green\", \"Not Placed\": \"red\"}, title=\"Box Plot of Placement Status by History of Backlogs\")\n",
    "fig.show()"
   ]
  },
  {
   "cell_type": "code",
   "execution_count": null,
   "id": "1bc2ea1b",
   "metadata": {},
   "outputs": [],
   "source": [
    "fig = px.box(df, x=\"Education\", y=\"CGPA\", title=\"Box and Violin Plot of CGPA by Education\")\n",
    "fig.update_traces(boxpoints=\"all\", jitter=0.3, pointpos=-1.8)  \n",
    "fig.show()"
   ]
  },
  {
   "cell_type": "code",
   "execution_count": null,
   "id": "c2579ee3",
   "metadata": {},
   "outputs": [],
   "source": [
    "# Plotting Histogram for the count of place and not placed  \n",
    "px.histogram(df, x='Placement_Status', color='Placement_Status',color_discrete_map={\"Placed\": \"green\", \"Not Placed\": \"red\"}, barmode='group')  "
   ]
  },
  {
   "cell_type": "code",
   "execution_count": null,
   "id": "0fa4db61",
   "metadata": {},
   "outputs": [],
   "source": [
    "# Pie Chart: Percentage pie chart of Placed or Not Placed  \n",
    "figure = px.pie(df, values=df['Placement_Status'].value_counts().values, names=df['Placement_Status'].value_counts().index, title='Placed Vs Not Placed')  \n",
    "figure.show()  "
   ]
  },
  {
   "cell_type": "code",
   "execution_count": null,
   "id": "8bd12d50",
   "metadata": {},
   "outputs": [],
   "source": [
    "# Pie chart for Gender distribution\n",
    "plt.figure(figsize=(8, 6))\n",
    "gender_counts = df['Gender'].value_counts()\n",
    "plt.pie(gender_counts, labels=gender_counts.index, autopct='%1.1f%%', colors=['skyblue', 'pink'])\n",
    "plt.title(\"Gender Distribution\")\n",
    "plt.show()"
   ]
  },
  {
   "cell_type": "code",
   "execution_count": null,
   "id": "75f4163a",
   "metadata": {},
   "outputs": [],
   "source": [
    "# Histogram for Numeric varibles\n",
    "\n",
    "plt.figure(figsize=(8, 6))\n",
    "sns.histplot(data=df, x='Age', kde=True)\n",
    "plt.title(\"Age Distribution\")\n",
    "plt.show()\n",
    "\n",
    "plt.figure(figsize=(8, 6))\n",
    "sns.histplot(data=df, x=\"CGPA\", kde=True)\n",
    "plt.title(\"CGPA Distribution\")\n",
    "plt.show()\n",
    "\n",
    "plt.figure(figsize=(8, 6))\n",
    "sns.histplot(data=df, x=\"Internships\", kde=True)\n",
    "plt.title(\"Internships Distribution\")\n",
    "plt.show()\n",
    "\n",
    "plt.figure(figsize=(8, 6))\n",
    "sns.histplot(data=df, x=\"Year\", kde=True)\n",
    "plt.title(\"Year Distribution\")\n",
    "plt.show()\n",
    "\n",
    "plt.figure(figsize=(8, 6))\n",
    "sns.histplot(data=df, x=\"Package(LPA)\", kde=True)\n",
    "plt.title(\"Package(LPA) Distribution\")\n",
    "plt.show()\n",
    "\n",
    "plt.figure(figsize=(8, 6))\n",
    "sns.histplot(data=df, x=\"Projects\", kde=True)\n",
    "plt.title(\"Projects Distribution\")\n",
    "plt.show()\n",
    "\n",
    "plt.figure(figsize=(8, 6))\n",
    "sns.histplot(data=df, x=\"HistoryOfBacklogs\", kde=True)\n",
    "plt.title(\"HistoryOfBacklogs Distribution\")\n",
    "plt.show()"
   ]
  },
  {
   "cell_type": "code",
   "execution_count": null,
   "id": "9652eff5",
   "metadata": {},
   "outputs": [],
   "source": [
    "# Box plot for Numeric varibles by Placement_Status\n",
    "plt.figure(figsize=(8, 6))\n",
    "sns.boxplot(x=\"Placement_Status\", y=\"Age\", data=df, palette='Set1')\n",
    "plt.title(\"Age Distribution by Placement Status\")\n",
    "plt.show()\n",
    "\n",
    "plt.figure(figsize=(8, 6))\n",
    "sns.boxplot(x=\"Placement_Status\", y=\"CGPA\", data=df, palette='Set2')\n",
    "plt.title(\"CGPA Distribution by Placement Status\")\n",
    "plt.show()\n",
    "\n",
    "plt.figure(figsize=(8, 6))\n",
    "sns.boxplot(x=\"Placement_Status\", y=\"Internships\", data=df, palette='Set3')\n",
    "plt.title(\"Internships Distribution by Placement Status\")\n",
    "plt.show()\n",
    "\n",
    "plt.figure(figsize=(8, 6))\n",
    "sns.boxplot(x=\"Placement_Status\", y=\"Year\", data=df, palette='Set1')\n",
    "plt.title(\"Year Distribution by Placement Status\")\n",
    "plt.show()\n",
    "\n",
    "plt.figure(figsize=(8, 6))\n",
    "sns.boxplot(x=\"Placement_Status\", y=\"Projects\", data=df, palette='Set2')\n",
    "plt.title(\"Projects Distribution by Placement Status\")\n",
    "plt.show()"
   ]
  },
  {
   "cell_type": "code",
   "execution_count": null,
   "id": "cd6f2e57",
   "metadata": {},
   "outputs": [],
   "source": [
    "colors={\"Placed\": \"blue\", \"Not Placed\": \"red\"}\n",
    "sns.countplot(x=\"Age\", hue=\"Placement_Status\", data=df, palette=colors)\n",
    "plt.title(\"Age Distribution by Placement Status\")\n",
    "plt.show()\n",
    "sns.countplot(x=\"Gender\", hue=\"Placement_Status\", data=df, palette=colors)\n",
    "plt.title(\"Gender Distribution by Placement Status\")\n",
    "plt.show()\n",
    "sns.countplot(x=\"Education\", hue=\"Placement_Status\", data=df, palette=colors)\n",
    "plt.title(\"Education Distribution by Placement Status\")\n",
    "plt.show()\n",
    "sns.countplot(x=\"Internships\", hue=\"Placement_Status\", data=df, palette=colors)\n",
    "plt.title(\"Internships Distribution by Placement Status\")\n",
    "plt.show()\n",
    "sns.countplot(x=\"Hostel\", hue=\"Placement_Status\", data=df, palette=colors)\n",
    "plt.title(\"Hostel distribution by Placement Status\")\n",
    "plt.show()\n",
    "sns.countplot(x=\"Letter_of_Recommendation\", hue=\"Placement_Status\", data=df, palette=colors)\n",
    "plt.title(\"Letter_of_Recommendation distribution by Placement Status\")\n",
    "plt.show()\n",
    "plt.figure(figsize=(12, 8))\n",
    "sns.countplot(x=\"Specialization\", hue=\"Placement_Status\", data=df, palette=colors)\n",
    "plt.title(\"Specialization distribution by Placement Status\")\n",
    "plt.show()\n",
    "sns.countplot(x=\"HistoryOfBacklogs\", hue=\"Placement_Status\", data=df, palette=colors)\n",
    "plt.title(\"HistoryOfBacklogs distribution by Placement Status\")\n",
    "plt.show()\n",
    "sns.countplot(x=\"On/Off Campus\", hue=\"Placement_Status\", data=df, palette=colors)\n",
    "plt.title(\"On/Off Campus distribution by Placement Status\")\n",
    "plt.show()\n",
    "sns.countplot(x=\"Projects\", hue=\"Placement_Status\", data=df, palette=colors)\n",
    "plt.title(\"Projects Distribution by Placement Status\")\n",
    "plt.show()"
   ]
  },
  {
   "cell_type": "code",
   "execution_count": null,
   "id": "20b45bd4",
   "metadata": {},
   "outputs": [],
   "source": [
    "# Stacked bar chart for Education vs. Placement_Status\n",
    "education_placement = df.groupby(['Education', 'Placement_Status']).size().unstack()\n",
    "plt.figure(figsize=(8, 6))\n",
    "education_placement.plot(kind='bar', stacked=True, color={\"Placed\": 'skyblue', \"Not Placed\": 'lightcoral'})\n",
    "plt.title(\"Education vs. Placement Status\")\n",
    "plt.show()"
   ]
  },
  {
   "cell_type": "code",
   "execution_count": null,
   "id": "1547e91e",
   "metadata": {},
   "outputs": [],
   "source": [
    "# Calculate maximum and minimum placement counts per year\n",
    "placement_counts = df.groupby('Year')['Placement_Status'].value_counts().unstack()\n",
    "max_placement_year = placement_counts['Placed'].idxmax()\n",
    "min_placement_year = placement_counts['Placed'].idxmin()\n",
    "\n",
    "# Plot maximum and minimum placement counts\n",
    "plt.figure(figsize=(10, 6))\n",
    "placement_counts['Placed'].plot(marker='o', label='Placed')\n",
    "plt.scatter(max_placement_year, placement_counts['Placed'].max(), color='green', label='Max Placement')\n",
    "plt.scatter(min_placement_year, placement_counts['Placed'].min(), color='red', label='Min Placement')\n",
    "plt.title(\"Placement Counts Over the Years\")\n",
    "plt.xlabel(\"Year\")\n",
    "plt.ylabel(\"Number of Placements\")\n",
    "plt.legend()\n",
    "plt.show()\n",
    "\n",
    "print(f\"Year with the maximum placements: {max_placement_year}\")\n",
    "print(f\"Year with the minimum placements: {min_placement_year}\")"
   ]
  },
  {
   "cell_type": "code",
   "execution_count": null,
   "id": "34268120",
   "metadata": {},
   "outputs": [],
   "source": [
    "# Calculate total placements per year\n",
    "total_placements_per_year = df[df['Placement_Status'] == 'Placed'].groupby('Year').size()\n",
    "\n",
    "print(\"\\nTotal placements per yearwise:\")\n",
    "print(total_placements_per_year)"
   ]
  },
  {
   "cell_type": "code",
   "execution_count": null,
   "id": "69668c57",
   "metadata": {},
   "outputs": [],
   "source": [
    "# Line chart for Placement trends over years\n",
    "plt.figure(figsize=(10, 6))\n",
    "placement_trends = df.groupby('Year')['Placement_Status'].value_counts().unstack().fillna(0)\n",
    "placement_trends.plot(marker='o')\n",
    "plt.title(\"Placement Trends Over Years\")\n",
    "plt.xlabel(\"Year\")\n",
    "plt.ylabel(\"Number of Students\")\n",
    "plt.legend(title=\"Placement Status\")\n",
    "plt.show()"
   ]
  },
  {
   "cell_type": "code",
   "execution_count": null,
   "id": "df819cab",
   "metadata": {},
   "outputs": [],
   "source": [
    "# Filter placed students\n",
    "placed_students = df[df['Placement_Status'] == 'Placed']\n",
    "\n",
    "# Find the youngest and eldest placed students using the 'Age' column\n",
    "youngest_student = placed_students.loc[placed_students['Age'].idxmin()]\n",
    "eldest_student = placed_students.loc[placed_students['Age'].idxmax()]\n",
    "\n",
    "# Print the results\n",
    "print(\"Youngest Student:\")\n",
    "print(youngest_student)\n",
    "\n",
    "print(\"\\nEldest Student:\")\n",
    "print(eldest_student)"
   ]
  },
  {
   "cell_type": "code",
   "execution_count": null,
   "id": "dce5fff2",
   "metadata": {},
   "outputs": [],
   "source": [
    "# Calculate maximum and minimum internships for placed students\n",
    "max_internships = placed_students['Internships'].max()\n",
    "min_internships = placed_students['Internships'].min()\n",
    "\n",
    "# Set up Seaborn style\n",
    "plt.figure(figsize=(8, 6))\n",
    "plt.title('Box Plot of Maximum and Minimum Internships for Placed Students')\n",
    "\n",
    "# Create a box plot\n",
    "plt.boxplot([placed_students['Internships']], labels=['Placed Students'])\n",
    "plt.ylabel('Number of Internships')\n",
    "plt.ylim(0, 5)  # Set y-axis limit to better visualize the data\n",
    "\n",
    "plt.annotate(f\"Max: {max_internships}\", xy=(1.1, max_internships), xytext=(1.3, max_internships + 0.2),\n",
    "             arrowprops=dict(facecolor='black', arrowstyle='->'))\n",
    "plt.annotate(f\"Min: {min_internships}\", xy=(1.1, min_internships), xytext=(1.3, min_internships - 0.2),\n",
    "             arrowprops=dict(facecolor='black', arrowstyle='->'))\n",
    "plt.show()\n",
    "\n",
    "# Calculate the count of students with the maximum and minimum number of internships\n",
    "count_max_internships = len(df[(df['Placement_Status'] == 'Yes') & (df['Internships'] == max_internships)])\n",
    "count_min_internships = len(df[(df['Placement_Status'] == 'Yes') & (df['Internships'] == min_internships)])\n",
    "\n",
    "# Print the results\n",
    "print(\"Maximum number of internships done by placed students: \", max_internships)\n",
    "print(\"Number of students who did the maximum internships: \", count_max_internships)\n",
    "print(\"Minimum number of internships done by placed students: \", min_internships)\n",
    "print(\"Number of students who did the minimum internships: \", count_min_internships)"
   ]
  },
  {
   "cell_type": "code",
   "execution_count": null,
   "id": "ea23519b",
   "metadata": {},
   "outputs": [],
   "source": [
    "# Calculate the counts for each CGPA bin\n",
    "cgpa_counts = df['CGPA'].value_counts().sort_index()\n",
    "\n",
    "# Find the maximum and minimum CGPA values\n",
    "max_cgpa = df['CGPA'].max()\n",
    "min_cgpa = df['CGPA'].min()\n",
    "\n",
    "# Set up Seaborn style\n",
    "plt.figure(figsize=(10, 6))\n",
    "\n",
    "# Create bar plot for CGPA counts\n",
    "plt.bar(cgpa_counts.index, cgpa_counts.values, color='blue', alpha=0.5, label='CGPA Counts')\n",
    "\n",
    "# Mark the maximum and minimum CGPA values with red color\n",
    "plt.bar(max_cgpa, cgpa_counts[max_cgpa], color='red', label='Max CGPA')\n",
    "plt.bar(min_cgpa, cgpa_counts[min_cgpa], color='green', label='Min CGPA')\n",
    "plt.title('Bar Plot: Max and Min CGPA Counts')\n",
    "plt.xlabel('CGPA')\n",
    "plt.ylabel('Counts')\n",
    "plt.legend()\n",
    "plt.grid(True)\n",
    "plt.show()\n",
    "\n",
    "# Count the number of students with maximum and minimum CGPA\n",
    "count_max_cgpa = df[df['CGPA'] == max_cgpa].shape[0]\n",
    "count_min_cgpa = df[df['CGPA'] == min_cgpa].shape[0]\n",
    "\n",
    "# Print the results\n",
    "print(\"Maximum CGPA: \", max_cgpa)\n",
    "print(\"Number of students with maximum CGPA: \", count_max_cgpa)\n",
    "print(\"Minimum CGPA: \", min_cgpa)\n",
    "print(\"Number of students with minimum CGPA: \", count_min_cgpa)"
   ]
  },
  {
   "cell_type": "code",
   "execution_count": null,
   "id": "861f923f",
   "metadata": {},
   "outputs": [],
   "source": [
    "# Define the desired specialization order\n",
    "specialization_order = ['Computer Science', 'Information Technology', 'Electrical', 'Electronics', 'Mechanical', 'Civil']\n",
    "\n",
    "# Create a count plot for placement trends by specialization\n",
    "plt.figure(figsize=(10, 6))\n",
    "sns.countplot(x='Specialization', hue='Placement_Status', data=df, order=specialization_order, palette=['skyblue', 'red'])\n",
    "plt.title('Placement Trends by Specialization')\n",
    "plt.xlabel('Specialization')\n",
    "plt.ylabel('Number of Students')\n",
    "plt.legend(title='Placement Status')\n",
    "plt.xticks(rotation=45)\n",
    "plt.tight_layout()\n",
    "plt.show()"
   ]
  },
  {
   "cell_type": "code",
   "execution_count": null,
   "id": "0ae8be98",
   "metadata": {},
   "outputs": [],
   "source": [
    "# Filter only placed students\n",
    "placed_df = df[df['Placement_Status'] == 'Placed']\n",
    "\n",
    "# Calculate average placement package by year\n",
    "average_placement_by_year = placed_df.groupby('Year')['Package(LPA)'].mean()\n",
    "\n",
    "# Find highest and lowest placement packages\n",
    "highest_placement = placed_df.loc[placed_df['Package(LPA)'].idxmax()]\n",
    "lowest_placement = placed_df.loc[placed_df['Package(LPA)'].idxmin()]\n",
    "\n",
    "# Create a bar plot for average placement by year\n",
    "plt.figure(figsize=(10, 6))\n",
    "sns.barplot(x=average_placement_by_year.index, y=average_placement_by_year.values, palette='viridis')\n",
    "plt.xlabel('Year')\n",
    "plt.ylabel('Average Placement Package (in LPA)')\n",
    "plt.title('Average Placement Package by Year')\n",
    "plt.tight_layout()\n",
    "\n",
    "# Display the plot\n",
    "plt.show()\n",
    "\n",
    "# Visualize the highest and lowest placement packages\n",
    "plt.figure(figsize=(10, 6))\n",
    "sns.barplot(x=['Highest', 'Lowest'], y=[highest_placement['Package(LPA)'], lowest_placement['Package(LPA)']], palette='magma')\n",
    "plt.ylabel('Placement Package (in LPA)')\n",
    "plt.title('Highest and Lowest Placement Packages')\n",
    "plt.tight_layout()\n",
    "\n",
    "# Display the plot\n",
    "plt.show()\n",
    "\n",
    "print(\"Average placement by year:\")\n",
    "print(average_placement_by_year)\n",
    "print(\"\\nHighest placement:\")\n",
    "print(highest_placement)\n",
    "print(\"\\nLowest placement:\")\n",
    "print(lowest_placement)"
   ]
  },
  {
   "cell_type": "code",
   "execution_count": null,
   "id": "60b6a482",
   "metadata": {},
   "outputs": [],
   "source": [
    "# Set up Seaborn style\n",
    "sns.set(style=\"whitegrid\")\n",
    "\n",
    "# Create a swarm plot for CGPA by Placement_Status\n",
    "plt.figure(figsize=(10, 6))\n",
    "sns.swarmplot(x='Placement_Status', y='CGPA', data=df, hue='Placement_Status', palette={'Placed': 'green', 'Not Placed': 'red'})\n",
    "plt.title(\"CGPA Distribution by Placement Status\")\n",
    "plt.xlabel(\"Placement Status\")\n",
    "plt.ylabel(\"CGPA\")\n",
    "plt.show()"
   ]
  },
  {
   "cell_type": "code",
   "execution_count": null,
   "id": "8daf5bd9",
   "metadata": {},
   "outputs": [],
   "source": [
    "from sklearn.cluster import KMeans\n",
    "\n",
    "# Select relevant attributes for clustering\n",
    "attributes_for_clustering = ['Age', 'CGPA', 'Internships', 'Package(LPA)']\n",
    "\n",
    "# Remove rows with missing values\n",
    "df_cleaned = df.dropna(subset=attributes_for_clustering)\n",
    "\n",
    "# Normalize the data\n",
    "normalized_data = (df_cleaned[attributes_for_clustering] - df_cleaned[attributes_for_clustering].mean()) / df_cleaned[attributes_for_clustering].std()\n",
    "\n",
    "# Perform K-Means clustering\n",
    "num_clusters = 4\n",
    "kmeans = KMeans(n_clusters=num_clusters, n_init=10, random_state=42)\n",
    "df_cleaned['Cluster'] = kmeans.fit_predict(normalized_data)\n",
    "\n",
    "# Visualize the clusters\n",
    "plt.figure(figsize=(10, 6))\n",
    "sns.scatterplot(data=df_cleaned, x='CGPA', y='Package(LPA)', hue='Cluster', palette='tab10')\n",
    "plt.title('K-Means Clustering of Campus Placement Data')\n",
    "plt.xlabel('CGPA')\n",
    "plt.ylabel('Package(LPA)')\n",
    "plt.show()"
   ]
  },
  {
   "cell_type": "code",
   "execution_count": null,
   "id": "1d0b3ccf",
   "metadata": {},
   "outputs": [],
   "source": [
    "sns.pairplot(data=df, hue=\"Placement_Status\")"
   ]
  },
  {
   "cell_type": "markdown",
   "id": "6841a20c",
   "metadata": {},
   "source": [
    "## Feature Engineering:"
   ]
  },
  {
   "cell_type": "code",
   "execution_count": null,
   "id": "66e94ea7",
   "metadata": {},
   "outputs": [],
   "source": [
    "df"
   ]
  },
  {
   "cell_type": "code",
   "execution_count": null,
   "id": "2506cf82",
   "metadata": {},
   "outputs": [],
   "source": [
    "# Convert categorical variables to numerical using LabelEncoder\n",
    "le = LabelEncoder()\n",
    "df['Gender'] = le.fit_transform(df['Gender'])\n",
    "df['Education'] = le.fit_transform(df['Education'])\n",
    "df['Hostel'] = le.fit_transform(df['Hostel'])\n",
    "df['Letter_of_Recommendation'] = le.fit_transform(df['Letter_of_Recommendation'])\n",
    "df['Specialization'] = le.fit_transform(df['Specialization'])\n",
    "df['On/Off Campus'] = le.fit_transform(df['On/Off Campus'])\n",
    "df['Placement_Status'] = le.fit_transform(df['Placement_Status'])"
   ]
  },
  {
   "cell_type": "code",
   "execution_count": null,
   "id": "351db006",
   "metadata": {},
   "outputs": [],
   "source": [
    "df.head(20)"
   ]
  },
  {
   "cell_type": "code",
   "execution_count": null,
   "id": "6a5dc5c8",
   "metadata": {},
   "outputs": [],
   "source": [
    "plt.figure(figsize=(15, 8))\n",
    "sns.heatmap(df.corr(), annot=True, cmap='coolwarm')\n",
    "plt.title(\"Correlation Matrix\")\n",
    "plt.show()"
   ]
  },
  {
   "cell_type": "code",
   "execution_count": null,
   "id": "d21a8804",
   "metadata": {},
   "outputs": [],
   "source": [
    "#Extracting Input and Output Columns\n",
    "X = df.drop(['Year','Hostel','On/Off Campus','Package(LPA)','Placement_Status'], axis=1)\n",
    "y = df['Placement_Status']  \n",
    "X"
   ]
  },
  {
   "cell_type": "code",
   "execution_count": null,
   "id": "8bd33f41",
   "metadata": {},
   "outputs": [],
   "source": [
    "y"
   ]
  },
  {
   "cell_type": "code",
   "execution_count": null,
   "id": "d14cd11d",
   "metadata": {},
   "outputs": [],
   "source": [
    "# Getting the shape of the X and Y  \n",
    "print(X.shape)  \n",
    "print(y.shape)  "
   ]
  },
  {
   "cell_type": "markdown",
   "id": "d9fe8f50",
   "metadata": {},
   "source": [
    "## Data Splitting"
   ]
  },
  {
   "cell_type": "code",
   "execution_count": null,
   "id": "44345cd6",
   "metadata": {},
   "outputs": [],
   "source": [
    "# Splitting the dataset into training and testing datasets.  \n",
    "X_train,X_test,y_train,y_test = train_test_split(X, y, test_size=0.33, random_state=42)  "
   ]
  },
  {
   "cell_type": "code",
   "execution_count": null,
   "id": "0e1a7d5c",
   "metadata": {},
   "outputs": [],
   "source": [
    "# Getting the Shape of all the training and testing dataset  \n",
    "print(X_train.shape)  \n",
    "print(X_test.shape)  \n",
    "print(y_train.shape)  \n",
    "print(y_test.shape)  "
   ]
  },
  {
   "cell_type": "markdown",
   "id": "7ebc7f70",
   "metadata": {},
   "source": [
    "## Model Training"
   ]
  },
  {
   "cell_type": "code",
   "execution_count": null,
   "id": "270b2189",
   "metadata": {},
   "outputs": [],
   "source": [
    "from sklearn.linear_model import LogisticRegression\n",
    "logreg= LogisticRegression(max_iter=1000, random_state=42)  \n",
    "logreg.fit(X_train, y_train)"
   ]
  },
  {
   "cell_type": "markdown",
   "id": "972adab3",
   "metadata": {},
   "source": [
    "## Model Evalution"
   ]
  },
  {
   "cell_type": "code",
   "execution_count": null,
   "id": "efd232e7",
   "metadata": {},
   "outputs": [],
   "source": [
    "y_pred= logreg.predict(X_test)\n",
    "\n",
    "# Calculate evaluation metrics\n",
    "accuracy = accuracy_score(y_test, y_pred)\n",
    "precision = precision_score(y_test, y_pred)\n",
    "recall = recall_score(y_test, y_pred)\n",
    "f1 = f1_score(y_test, y_pred)\n",
    "conf_matrix = confusion_matrix(y_test, y_pred)\n",
    "classification_rep = classification_report(y_test, y_pred)\n",
    "\n",
    "# Print the evaluation metrics\n",
    "print(\"Accuracy:\", accuracy)\n",
    "print(\"Precision:\", precision)\n",
    "print(\"Recall:\", recall)\n",
    "print(\"F1-Score:\", f1)\n",
    "print(\"Confusion Matrix:\\n\", conf_matrix)\n",
    "print(\"Classification Report:\\n\", classification_rep)"
   ]
  },
  {
   "cell_type": "markdown",
   "id": "28ce1a31",
   "metadata": {},
   "source": [
    "## Prediction"
   ]
  },
  {
   "cell_type": "code",
   "execution_count": null,
   "id": "4491eef0",
   "metadata": {},
   "outputs": [],
   "source": [
    "print(\"Accuracy Score for Test Dataset is \",logreg.score(X_test, y_test)*100,\"%\")\n",
    "print(\"Accuracy Score for Train Dataset is\",logreg.score(X_train,y_train)*100,\"%\")"
   ]
  },
  {
   "cell_type": "markdown",
   "id": "20d49b7b",
   "metadata": {},
   "source": [
    "## Scaling"
   ]
  },
  {
   "cell_type": "code",
   "execution_count": null,
   "id": "359e430e",
   "metadata": {},
   "outputs": [],
   "source": [
    "# Standardize features\n",
    "scaler = StandardScaler()\n",
    "X_train_scaled = scaler.fit_transform(X_train)\n",
    "X_test_scaled = scaler.transform(X_test)"
   ]
  },
  {
   "cell_type": "markdown",
   "id": "0c838198",
   "metadata": {},
   "source": [
    "## Hypermeter Tuning"
   ]
  },
  {
   "cell_type": "code",
   "execution_count": null,
   "id": "d13be85f",
   "metadata": {},
   "outputs": [],
   "source": [
    "param_grid = {\n",
    "    'penalty': ['l2'],  # L2 regularization\n",
    "    'C': [0.001, 0.01, 0.1, 1, 10]  # Inverse of regularization strength\n",
    "}\n",
    "\n",
    "# Perform hyperparameter tuning using GridSearchCV with cross-validation\n",
    "grid_search = GridSearchCV(logreg, param_grid, cv=5, scoring='accuracy')\n",
    "grid_search.fit(X_train_scaled, y_train)\n",
    "\n",
    "best_logreg = grid_search.best_estimator_\n",
    "\n",
    "# Evaluate on the test set\n",
    "y_pred = best_logreg.predict(X_test_scaled)\n",
    "accuracy = accuracy_score(y_test, y_pred)\n",
    "best_params = grid_search.best_params_\n",
    "\n",
    "print(f\"Best hyperparameters: {best_params}\")\n",
    "print(f\"Accuracy on test set: {accuracy:.2f}\")"
   ]
  },
  {
   "cell_type": "code",
   "execution_count": null,
   "id": "69d260be",
   "metadata": {},
   "outputs": [],
   "source": [
    "model = LogisticRegression(C=0.001, penalty='l2', solver='lbfgs', max_iter=1000, random_state=42)\n",
    "model.fit(X_train, y_train)"
   ]
  },
  {
   "cell_type": "code",
   "execution_count": null,
   "id": "d1d8fe93",
   "metadata": {},
   "outputs": [],
   "source": [
    "y_pred= model.predict(X_test)\n",
    "\n",
    "# Calculate evaluation metrics\n",
    "accuracy = accuracy_score(y_test, y_pred)\n",
    "precision = precision_score(y_test, y_pred)\n",
    "recall = recall_score(y_test, y_pred)\n",
    "f1 = f1_score(y_test, y_pred)\n",
    "conf_matrix = confusion_matrix(y_test, y_pred)\n",
    "classification_rep = classification_report(y_test, y_pred)\n",
    "\n",
    "# Print the evaluation metrics\n",
    "print(\"Accuracy:\", accuracy)\n",
    "print(\"Precision:\", precision)\n",
    "print(\"Recall:\", recall)\n",
    "print(\"F1-Score:\", f1)\n",
    "print(\"Confusion Matrix:\\n\", conf_matrix)\n",
    "print(\"Classification Report:\\n\", classification_rep)"
   ]
  },
  {
   "cell_type": "code",
   "execution_count": null,
   "id": "35f819a1",
   "metadata": {},
   "outputs": [],
   "source": [
    "# Create a heatmap of the confusion matrix\n",
    "plt.figure(figsize=(8, 6))\n",
    "sns.set(font_scale=1.2)\n",
    "sns.heatmap(conf_matrix, annot=True, fmt=\"d\", cmap=\"Blues\", cbar=False,\n",
    "            annot_kws={\"size\": 16}, linewidths=0.5, square=True)\n",
    "plt.xlabel('Predicted Labels')\n",
    "plt.ylabel('True Labels')\n",
    "plt.title('Confusion Matrix')\n",
    "plt.show()"
   ]
  },
  {
   "cell_type": "code",
   "execution_count": null,
   "id": "5df21f05",
   "metadata": {},
   "outputs": [],
   "source": [
    "df1=pd.DataFrame({'Actual': y_test, 'Predict': y_pred})\n",
    "df1"
   ]
  },
  {
   "cell_type": "code",
   "execution_count": null,
   "id": "6216951c",
   "metadata": {},
   "outputs": [],
   "source": [
    "print(\"Accuracy Score for Test Dataset is \",model.score(X_test, y_test)*100,\"%\")\n",
    "print(\"Accuracy Score for Train Dataset is\",model.score(X_train,y_train)*100,\"%\")"
   ]
  },
  {
   "cell_type": "markdown",
   "id": "1392f1d5",
   "metadata": {},
   "source": [
    "## Save the model"
   ]
  },
  {
   "cell_type": "code",
   "execution_count": null,
   "id": "bae84c2e",
   "metadata": {},
   "outputs": [],
   "source": [
    "with open(\"mytrainedplacement_model.pkl\", \"wb\") as model_file:\n",
    "    pickle.dump(model, model_file)"
   ]
  },
  {
   "cell_type": "markdown",
   "id": "fb4ba90d",
   "metadata": {},
   "source": [
    "## Load the Model"
   ]
  },
  {
   "cell_type": "code",
   "execution_count": null,
   "id": "ddcf9b5c",
   "metadata": {},
   "outputs": [],
   "source": [
    "with open(\"mytrainedplacement_model.pkl\", \"rb\") as model_file:\n",
    "    loaded_model = pickle.load(model_file)"
   ]
  }
 ],
 "metadata": {
  "kernelspec": {
   "display_name": "Python 3 (ipykernel)",
   "language": "python",
   "name": "python3"
  },
  "language_info": {
   "codemirror_mode": {
    "name": "ipython",
    "version": 3
   },
   "file_extension": ".py",
   "mimetype": "text/x-python",
   "name": "python",
   "nbconvert_exporter": "python",
   "pygments_lexer": "ipython3",
   "version": "3.10.9"
  }
 },
 "nbformat": 4,
 "nbformat_minor": 5
}
